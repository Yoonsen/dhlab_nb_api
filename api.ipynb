{
 "cells": [
  {
   "cell_type": "code",
   "execution_count": 5,
   "metadata": {},
   "outputs": [],
   "source": [
    "import dhlab.nbtext as nb\n",
    "import dhlab.module_update as mu\n",
    "import pandas as pd"
   ]
  },
  {
   "cell_type": "code",
   "execution_count": 2,
   "metadata": {},
   "outputs": [
    {
     "data": {
      "text/markdown": [
       "Updated file `C:\\Users\\larsj\\Documents\\GitHub\\dhlab_nb_api\\nb_elastic_collocations.py`"
      ],
      "text/plain": [
       "<IPython.core.display.Markdown object>"
      ]
     },
     "metadata": {},
     "output_type": "display_data"
    }
   ],
   "source": [
    "mu.update('nb_elastic_collocations')"
   ]
  },
  {
   "cell_type": "code",
   "execution_count": 20,
   "metadata": {},
   "outputs": [],
   "source": [
    "def get_df_level(frases, title='*', coord = 'OR', media='aviser', period = (18000101, 20201231)):\n",
    "    \"\"\"Get dokument frequencies for phrases, coordinated with coord OR AND or +\"\"\"\n",
    "    import requests\n",
    "    coord = \" \" + coord + \" \"\n",
    "    querystring = coord.join(['\"' + frase + '\"' for frase in frases])\n",
    "    print(querystring)\n",
    "    if media == 'bøker':\n",
    "        agg_level = 'year'\n",
    "    elif media == 'tidsskrift':\n",
    "        agg_level = 'year, month'\n",
    "    else:\n",
    "        agg_level = 'year, month, day'\n",
    "    query = {\n",
    "        'q':querystring,\n",
    "        'size':1,\n",
    "        'aggs':agg_level,\n",
    "        'filter':[\n",
    "            'mediatype:{mt}'.format(mt=media),\n",
    "            'title:{title}'.format(title=title),\n",
    "            'date:[{date_from} TO {date_to}]'.format(date_from = period[0], date_to = period[1])\n",
    "        ]\n",
    "        \n",
    "    }\n",
    "    r = requests.get(\"https://api.nb.no/catalog/v1/aggregations\", params = query)\n",
    "    aggs = r.json() #['_embedded']['aggregations'][0]['buckets']\n",
    "    #df = pd.DataFrame(aggs) #{x['key']:x['count'] for x in aggs}\n",
    "    #df.columns = [querystring]\n",
    "    return aggs"
   ]
  },
  {
   "cell_type": "code",
   "execution_count": null,
   "metadata": {},
   "outputs": [],
   "source": [
    "def get_konks(urn, phrase, window=1000, n = 1000):\n",
    "    import requests\n",
    "    querystring = '\"'+ phrase +'\"' \n",
    "    query = {\n",
    "        'q':querystring,\n",
    "        'fragments': n,\n",
    "        'fragSize':window\n",
    "       \n",
    "    }\n",
    "    r = requests.get(\"https://api.nb.no/catalog/v1/items/{urn}/contentfragments\".format(urn=urn), params = query)\n",
    "    res = r.json()\n",
    "    results = []\n",
    "    try:\n",
    "        for x in res['contentFragments']:\n",
    "            urn = x['pageid']\n",
    "            hit = x['text']\n",
    "            splits = hit.split('<em>')\n",
    "            s2 = splits[1].split('</em>')\n",
    "            before = splits[0]\n",
    "            word = s2[0]\n",
    "            after = s2[1]b\n",
    "            results.append({'urn': urn, 'before': before, 'word':word, 'after':after})\n",
    "    except:\n",
    "        True\n",
    "    return results"
   ]
  },
  {
   "cell_type": "code",
   "execution_count": 23,
   "metadata": {},
   "outputs": [],
   "source": [
    "import requests"
   ]
  },
  {
   "cell_type": "code",
   "execution_count": 28,
   "metadata": {},
   "outputs": [],
   "source": [
    "def super_search(term = None, number=50, page=0, mediatype='aviser', period = (18000101, 20401231)):\n",
    "    \"\"\"Søk etter term og få ut json\"\"\"\n",
    "    number = min(number, 50)\n",
    "    r = requests.get(\n",
    "        \"https://api.nb.no:443/catalog/v1/items\", \n",
    "         params = { \n",
    "             'q': term,\n",
    "             'filter':[\n",
    "                 'mediatype:{mediatype}'.format(mediatype=mediatype),\n",
    "                 'date:[{date_from} TO {date_to}]'.format(date_from = period[0], date_to = period[1])\n",
    "             ],\n",
    "             'page':page, \n",
    "             'size':number\n",
    "         }\n",
    "    )\n",
    "    return r.json()"
   ]
  },
  {
   "cell_type": "code",
   "execution_count": 37,
   "metadata": {},
   "outputs": [],
   "source": [
    "\n",
    "def get_data(frase, media='aviser', title='jazznytt'):\n",
    "    import requests\n",
    "    query = {\n",
    "        'q':'\"'+frase+'\"\"',\n",
    "        'size':1,\n",
    "        'aggs':'year',\n",
    "        'filter':['mediatype:{mt}'.format(mt=media),'title:{title}'.format(title=title)]\n",
    "    }\n",
    "    r = requests.get(\"https://api.nb.no/catalog/v1/items\", params = query)\n",
    "    return r.json()"
   ]
  },
  {
   "cell_type": "code",
   "execution_count": 40,
   "metadata": {},
   "outputs": [
    {
     "data": {
      "text/plain": [
       "{'_links': {'self': {'href': 'https://api.nb.no/catalog/v1/items?q=%22garbarek%22%22&aggs=year&filter=mediatype:aviser&filter=title:jazznytt&page=0&size=1'}},\n",
       " 'page': {'size': 1, 'totalElements': 0, 'totalPages': 0, 'number': 0},\n",
       " '_embedded': {'aggregations': [{'name': 'year'}]}}"
      ]
     },
     "execution_count": 40,
     "metadata": {},
     "output_type": "execute_result"
    }
   ],
   "source": [
    "get_data('garbarek')"
   ]
  },
  {
   "cell_type": "code",
   "execution_count": 43,
   "metadata": {},
   "outputs": [],
   "source": [
    "a = requests.get(\"https://api.nb.no/catalog/v1/items?q=grandiosa&filter=mediatype%3Aaviser%20OR%20mediatype%3Abilder%20OR%20mediatype%3Ab%C3%B8ker%20OR%20mediatype%3Akart%20OR%20mediatype%3Amusikkmanuskripter%20OR%20mediatype%3Aprivatarkivmateriale%20OR%20mediatype%3Atidsskrift&filter=digital:Ja&aggs=mediatype&size=1&profile=wwwnbno\", {\n",
    "  \"headers\": {\n",
    "    \"accept\": \"*/*\",\n",
    "    \"accept-language\": \"nb-NO,nb;q=0.9,en-US;q=0.8,en;q=0.7,no;q=0.6,nn;q=0.5\",\n",
    "    \"cache-control\": \"no-cache\",\n",
    "    \"pragma\": \"no-cache\",\n",
    "    \"sec-fetch-dest\": \"empty\",\n",
    "    \"sec-fetch-mode\": \"cors\",\n",
    "    \"sec-fetch-site\": \"same-site\"\n",
    "  },\n",
    "  \"referrer\": \"https://www.nb.no/search?q=grandiosa&mediatype=aviser\",\n",
    "  \"referrerPolicy\": \"no-referrer-when-downgrade\",\n",
    "  \"method\": \"OPTIONS\",\n",
    "  \"mode\": \"cors\",\n",
    "  \"credentials\": \"omit\"\n",
    "});"
   ]
  },
  {
   "cell_type": "code",
   "execution_count": 47,
   "metadata": {},
   "outputs": [],
   "source": [
    "b = requests.get(\"\"\"\n",
    "https://api.nb.no/catalog/v1/aggregations?q=grandiosa&filter=mediatype:b%C3%B8ker&filter=digital:Ja&filter=contentClasses%3Ajp2&aggs=mediatype&aggs=year%3A9999&aggs=literaryform&aggs=languages%3A9999&aggs=bibliography&aggs=ddc1&size=23&profile=wwwnbno\n",
    "\"\"\")"
   ]
  },
  {
   "cell_type": "code",
   "execution_count": 48,
   "metadata": {},
   "outputs": [
    {
     "data": {
      "text/plain": [
       "{'_links': {'self': {'href': 'https://api.nb.no/catalog/v1/aggregations?q=grandiosa&aggs=mediatype&aggs=year:9999&aggs=literaryform&aggs=languages:9999&aggs=bibliography&aggs=ddc1&filter=mediatype:b%C3%B8ker&filter=digital:Ja&filter=contentClasses:jp2&profile=wwwnbno%0A&page=0&size=1'}},\n",
       " 'page': {'size': 0, 'totalElements': 1452, 'totalPages': 1, 'number': 0},\n",
       " '_embedded': {'aggregations': [{'name': 'ddc1',\n",
       "    'buckets': [{'key': '8', 'count': 482},\n",
       "     {'key': '3', 'count': 259},\n",
       "     {'key': '6', 'count': 179},\n",
       "     {'key': '7', 'count': 117},\n",
       "     {'key': '9', 'count': 106},\n",
       "     {'key': '0', 'count': 47},\n",
       "     {'key': '4', 'count': 44},\n",
       "     {'key': '1', 'count': 30},\n",
       "     {'key': '2', 'count': 10},\n",
       "     {'key': '5', 'count': 2}]},\n",
       "   {'name': 'literaryform',\n",
       "    'buckets': [{'key': 'Faglitteratur', 'count': 733},\n",
       "     {'key': 'Skjønnlitteratur', 'count': 456},\n",
       "     {'key': 'Uklassifisert', 'count': 263}]},\n",
       "   {'name': 'bibliography',\n",
       "    'buckets': [{'key': 'Norbok', 'count': 1242},\n",
       "     {'key': 'Kulturfond', 'count': 134},\n",
       "     {'key': 'NFFO', 'count': 76},\n",
       "     {'key': 'Musikk', 'count': 20},\n",
       "     {'key': 'NORLA', 'count': 18},\n",
       "     {'key': 'Ibsensamlingen', 'count': 17},\n",
       "     {'key': 'Barnebokinstituttet', 'count': 14},\n",
       "     {'key': 'Norsk lokalhistorisk bibliografi', 'count': 12},\n",
       "     {'key': 'Norsk lokalhistorisk institutt', 'count': 11},\n",
       "     {'key': 'Film', 'count': 8},\n",
       "     {'key': 'Samisk', 'count': 5},\n",
       "     {'key': 'bib1814', 'count': 4},\n",
       "     {'key': 'littforsk', 'count': 4},\n",
       "     {'key': 'Hamsun', 'count': 2},\n",
       "     {'key': 'Prøysen', 'count': 2},\n",
       "     {'key': 'Teater', 'count': 2},\n",
       "     {'key': 'Nornoter', 'count': 1}]},\n",
       "   {'name': 'languages',\n",
       "    'buckets': [{'key': 'nob', 'count': 1251},\n",
       "     {'key': 'nno', 'count': 211},\n",
       "     {'key': 'mul', 'count': 127},\n",
       "     {'key': 'swe', 'count': 54},\n",
       "     {'key': 'eng', 'count': 43},\n",
       "     {'key': 'dan', 'count': 23},\n",
       "     {'key': 'ita', 'count': 18},\n",
       "     {'key': 'spa', 'count': 15},\n",
       "     {'key': 'und', 'count': 9},\n",
       "     {'key': 'por', 'count': 4},\n",
       "     {'key': 'fre', 'count': 3},\n",
       "     {'key': 'cat', 'count': 1},\n",
       "     {'key': 'ger', 'count': 1},\n",
       "     {'key': 'hun', 'count': 1},\n",
       "     {'key': 'pol', 'count': 1},\n",
       "     {'key': 'sme', 'count': 1},\n",
       "     {'key': 'swa', 'count': 1}]},\n",
       "   {'name': 'year',\n",
       "    'buckets': [{'key': '2008', 'count': 99},\n",
       "     {'key': '2007', 'count': 96},\n",
       "     {'key': '2006', 'count': 94},\n",
       "     {'key': '2011', 'count': 92},\n",
       "     {'key': '2009', 'count': 90},\n",
       "     {'key': '2005', 'count': 82},\n",
       "     {'key': '2010', 'count': 75},\n",
       "     {'key': '2014', 'count': 71},\n",
       "     {'key': '2004', 'count': 69},\n",
       "     {'key': '2012', 'count': 66},\n",
       "     {'key': '2015', 'count': 59},\n",
       "     {'key': '2003', 'count': 53},\n",
       "     {'key': '2001', 'count': 48},\n",
       "     {'key': '2013', 'count': 48},\n",
       "     {'key': '2002', 'count': 40},\n",
       "     {'key': '1999', 'count': 38},\n",
       "     {'key': '2018', 'count': 35},\n",
       "     {'key': '2000', 'count': 34},\n",
       "     {'key': '1998', 'count': 33},\n",
       "     {'key': '2017', 'count': 26},\n",
       "     {'key': '2016', 'count': 23},\n",
       "     {'key': '2019', 'count': 23},\n",
       "     {'key': '1997', 'count': 19},\n",
       "     {'key': '1996', 'count': 14},\n",
       "     {'key': '1990', 'count': 8},\n",
       "     {'key': '1991', 'count': 8},\n",
       "     {'key': '1994', 'count': 8},\n",
       "     {'key': '1995', 'count': 8},\n",
       "     {'key': '1984', 'count': 6},\n",
       "     {'key': '1992', 'count': 6},\n",
       "     {'key': '1993', 'count': 6},\n",
       "     {'key': '1962', 'count': 4},\n",
       "     {'key': '1973', 'count': 4},\n",
       "     {'key': '1985', 'count': 4},\n",
       "     {'key': '1952', 'count': 3},\n",
       "     {'key': '1958', 'count': 3},\n",
       "     {'key': '1968', 'count': 3},\n",
       "     {'key': '1975', 'count': 3},\n",
       "     {'key': '1977', 'count': 3},\n",
       "     {'key': '1983', 'count': 3},\n",
       "     {'key': '1989', 'count': 3},\n",
       "     {'key': '2020', 'count': 3},\n",
       "     {'key': '1910', 'count': 2},\n",
       "     {'key': '1951', 'count': 2},\n",
       "     {'key': '1959', 'count': 2},\n",
       "     {'key': '1967', 'count': 2},\n",
       "     {'key': '1972', 'count': 2},\n",
       "     {'key': '1976', 'count': 2},\n",
       "     {'key': '1978', 'count': 2},\n",
       "     {'key': '1980', 'count': 2},\n",
       "     {'key': '1894', 'count': 1},\n",
       "     {'key': '1904', 'count': 1},\n",
       "     {'key': '1918', 'count': 1},\n",
       "     {'key': '1921', 'count': 1},\n",
       "     {'key': '1926', 'count': 1},\n",
       "     {'key': '1937', 'count': 1},\n",
       "     {'key': '1948', 'count': 1},\n",
       "     {'key': '1949', 'count': 1},\n",
       "     {'key': '1953', 'count': 1},\n",
       "     {'key': '1954', 'count': 1},\n",
       "     {'key': '1955', 'count': 1},\n",
       "     {'key': '1956', 'count': 1},\n",
       "     {'key': '1957', 'count': 1},\n",
       "     {'key': '1961', 'count': 1},\n",
       "     {'key': '1963', 'count': 1},\n",
       "     {'key': '1964', 'count': 1},\n",
       "     {'key': '1965', 'count': 1},\n",
       "     {'key': '1966', 'count': 1},\n",
       "     {'key': '1971', 'count': 1},\n",
       "     {'key': '1981', 'count': 1},\n",
       "     {'key': '1982', 'count': 1},\n",
       "     {'key': '1986', 'count': 1},\n",
       "     {'key': '1988', 'count': 1}]},\n",
       "   {'name': 'mediatype', 'buckets': [{'key': 'bøker', 'count': 1452}]}]}}"
      ]
     },
     "execution_count": 48,
     "metadata": {},
     "output_type": "execute_result"
    }
   ],
   "source": [
    "b.json()"
   ]
  },
  {
   "cell_type": "code",
   "execution_count": 55,
   "metadata": {},
   "outputs": [],
   "source": [
    "import matplotlib.pyplot as plt\n"
   ]
  },
  {
   "cell_type": "code",
   "execution_count": 56,
   "metadata": {},
   "outputs": [
    {
     "data": {
      "image/png": "[encoded data removed]",
      "text/plain": [
       "<Figure size 1080x720 with 1 Axes>"
      ]
     },
     "metadata": {
      "needs_background": "light"
     },
     "output_type": "display_data"
    }
   ],
   "source": [
    "nb.unigram('kvinnehistorie', period=(1940, 2010)).rolling(window=4).mean().plot(legend=False, lw=4)\n",
    "plt.savefig('kvinnehistorie.png', dpi = 300)"
   ]
  },
  {
   "cell_type": "code",
   "execution_count": 57,
   "metadata": {},
   "outputs": [
    {
     "data": {
      "image/png": "[encoded data removed]",
      "text/plain": [
       "<Figure size 1080x720 with 1 Axes>"
      ]
     },
     "metadata": {
      "needs_background": "light"
     },
     "output_type": "display_data"
    },
    {
     "data": {
      "image/png": "[encoded data removed]",
      "text/plain": [
       "<Figure size 1080x720 with 1 Axes>"
      ]
     },
     "metadata": {
      "needs_background": "light"
     },
     "output_type": "display_data"
    }
   ],
   "source": [
    "p = nb.unigram('.', period=(1940, 2010)).rolling(window=4).mean().plot(legend=False, lw=4)\n",
    "k = nb.unigram('kvinnehistorie', period=(1940, 2010)).rolling(window=4).mean().plot(legend=False, lw=4)"
   ]
  },
  {
   "cell_type": "code",
   "execution_count": 74,
   "metadata": {},
   "outputs": [],
   "source": [
    "plt.rcParams['font.size'] = 18"
   ]
  },
  {
   "cell_type": "code",
   "execution_count": 79,
   "metadata": {},
   "outputs": [
    {
     "data": {
      "image/png": "[encoded data removed]",
      "text/plain": [
       "<Figure size 864x432 with 1 Axes>"
      ]
     },
     "metadata": {
      "needs_background": "light"
     },
     "output_type": "display_data"
    }
   ],
   "source": [
    "(nb.nb_ngram('kvinnehistorie', years=(1940, 2000), smooth=5)*100000).plot(lw=3, figsize=(12,6), legend=False)\n",
    "plt.savefig('kvinnehistorie.png', dpi = 300)"
   ]
  },
  {
   "cell_type": "code",
   "execution_count": 3,
   "metadata": {},
   "outputs": [],
   "source": [
    "import nb_elastic_collocations as ncol"
   ]
  },
  {
   "cell_type": "code",
   "execution_count": 25,
   "metadata": {},
   "outputs": [
    {
     "data": {
      "text/html": [
       "<div>\n",
       "<style scoped>\n",
       "    .dataframe tbody tr th:only-of-type {\n",
       "        vertical-align: middle;\n",
       "    }\n",
       "\n",
       "    .dataframe tbody tr th {\n",
       "        vertical-align: top;\n",
       "    }\n",
       "\n",
       "    .dataframe thead th {\n",
       "        text-align: right;\n",
       "    }\n",
       "</style>\n",
       "<table border=\"1\" class=\"dataframe\">\n",
       "  <thead>\n",
       "    <tr style=\"text-align: right;\">\n",
       "      <th></th>\n",
       "      <th>a*t*</th>\n",
       "    </tr>\n",
       "  </thead>\n",
       "  <tbody>\n",
       "    <tr>\n",
       "      <th>at</th>\n",
       "      <td>199527660</td>\n",
       "    </tr>\n",
       "    <tr>\n",
       "      <th>alt</th>\n",
       "      <td>14560681</td>\n",
       "    </tr>\n",
       "    <tr>\n",
       "      <th>att</th>\n",
       "      <td>4719899</td>\n",
       "    </tr>\n",
       "    <tr>\n",
       "      <th>art</th>\n",
       "      <td>1630533</td>\n",
       "    </tr>\n",
       "    <tr>\n",
       "      <th>akt</th>\n",
       "      <td>231929</td>\n",
       "    </tr>\n",
       "    <tr>\n",
       "      <th>amt</th>\n",
       "      <td>177868</td>\n",
       "    </tr>\n",
       "    <tr>\n",
       "      <th>ant</th>\n",
       "      <td>170414</td>\n",
       "    </tr>\n",
       "    <tr>\n",
       "      <th>act</th>\n",
       "      <td>167551</td>\n",
       "    </tr>\n",
       "    <tr>\n",
       "      <th>aat</th>\n",
       "      <td>149494</td>\n",
       "    </tr>\n",
       "    <tr>\n",
       "      <th>aut</th>\n",
       "      <td>108394</td>\n",
       "    </tr>\n",
       "    <tr>\n",
       "      <th>agt</th>\n",
       "      <td>50541</td>\n",
       "    </tr>\n",
       "    <tr>\n",
       "      <th>ait</th>\n",
       "      <td>50361</td>\n",
       "    </tr>\n",
       "    <tr>\n",
       "      <th>ath</th>\n",
       "      <td>32744</td>\n",
       "    </tr>\n",
       "    <tr>\n",
       "      <th>ate</th>\n",
       "      <td>32213</td>\n",
       "    </tr>\n",
       "    <tr>\n",
       "      <th>ast</th>\n",
       "      <td>30276</td>\n",
       "    </tr>\n",
       "    <tr>\n",
       "      <th>atm</th>\n",
       "      <td>28911</td>\n",
       "    </tr>\n",
       "    <tr>\n",
       "      <th>aft</th>\n",
       "      <td>28325</td>\n",
       "    </tr>\n",
       "    <tr>\n",
       "      <th>ata</th>\n",
       "      <td>21753</td>\n",
       "    </tr>\n",
       "    <tr>\n",
       "      <th>adt</th>\n",
       "      <td>16485</td>\n",
       "    </tr>\n",
       "    <tr>\n",
       "      <th>abt</th>\n",
       "      <td>13026</td>\n",
       "    </tr>\n",
       "    <tr>\n",
       "      <th>apt</th>\n",
       "      <td>12443</td>\n",
       "    </tr>\n",
       "    <tr>\n",
       "      <th>aet</th>\n",
       "      <td>12213</td>\n",
       "    </tr>\n",
       "    <tr>\n",
       "      <th>ato</th>\n",
       "      <td>12164</td>\n",
       "    </tr>\n",
       "    <tr>\n",
       "      <th>at-</th>\n",
       "      <td>11713</td>\n",
       "    </tr>\n",
       "    <tr>\n",
       "      <th>ati</th>\n",
       "      <td>10547</td>\n",
       "    </tr>\n",
       "    <tr>\n",
       "      <th>aT</th>\n",
       "      <td>10176</td>\n",
       "    </tr>\n",
       "    <tr>\n",
       "      <th>avt</th>\n",
       "      <td>7339</td>\n",
       "    </tr>\n",
       "    <tr>\n",
       "      <th>atl</th>\n",
       "      <td>6573</td>\n",
       "    </tr>\n",
       "    <tr>\n",
       "      <th>atq</th>\n",
       "      <td>5277</td>\n",
       "    </tr>\n",
       "    <tr>\n",
       "      <th>aot</th>\n",
       "      <td>4948</td>\n",
       "    </tr>\n",
       "    <tr>\n",
       "      <th>atn</th>\n",
       "      <td>4717</td>\n",
       "    </tr>\n",
       "    <tr>\n",
       "      <th>atf</th>\n",
       "      <td>4323</td>\n",
       "    </tr>\n",
       "    <tr>\n",
       "      <th>ats</th>\n",
       "      <td>4085</td>\n",
       "    </tr>\n",
       "    <tr>\n",
       "      <th>a-t</th>\n",
       "      <td>3983</td>\n",
       "    </tr>\n",
       "    <tr>\n",
       "      <th>atø</th>\n",
       "      <td>3931</td>\n",
       "    </tr>\n",
       "    <tr>\n",
       "      <th>a.t</th>\n",
       "      <td>3858</td>\n",
       "    </tr>\n",
       "    <tr>\n",
       "      <th>até</th>\n",
       "      <td>3536</td>\n",
       "    </tr>\n",
       "    <tr>\n",
       "      <th>atu</th>\n",
       "      <td>3358</td>\n",
       "    </tr>\n",
       "    <tr>\n",
       "      <th>atb</th>\n",
       "      <td>3020</td>\n",
       "    </tr>\n",
       "    <tr>\n",
       "      <th>atr</th>\n",
       "      <td>2906</td>\n",
       "    </tr>\n",
       "    <tr>\n",
       "      <th>atj</th>\n",
       "      <td>2694</td>\n",
       "    </tr>\n",
       "    <tr>\n",
       "      <th>aBt</th>\n",
       "      <td>2592</td>\n",
       "    </tr>\n",
       "    <tr>\n",
       "      <th>atg</th>\n",
       "      <td>2405</td>\n",
       "    </tr>\n",
       "    <tr>\n",
       "      <th>a1t</th>\n",
       "      <td>2319</td>\n",
       "    </tr>\n",
       "    <tr>\n",
       "      <th>atc</th>\n",
       "      <td>1994</td>\n",
       "    </tr>\n",
       "    <tr>\n",
       "      <th>azt</th>\n",
       "      <td>1707</td>\n",
       "    </tr>\n",
       "    <tr>\n",
       "      <th>aTb</th>\n",
       "      <td>1636</td>\n",
       "    </tr>\n",
       "    <tr>\n",
       "      <th>ajt</th>\n",
       "      <td>1487</td>\n",
       "    </tr>\n",
       "    <tr>\n",
       "      <th>aUt</th>\n",
       "      <td>1411</td>\n",
       "    </tr>\n",
       "    <tr>\n",
       "      <th>aty</th>\n",
       "      <td>1341</td>\n",
       "    </tr>\n",
       "  </tbody>\n",
       "</table>\n",
       "</div>"
      ],
      "text/plain": [
       "          a*t*\n",
       "at   199527660\n",
       "alt   14560681\n",
       "att    4719899\n",
       "art    1630533\n",
       "akt     231929\n",
       "amt     177868\n",
       "ant     170414\n",
       "act     167551\n",
       "aat     149494\n",
       "aut     108394\n",
       "agt      50541\n",
       "ait      50361\n",
       "ath      32744\n",
       "ate      32213\n",
       "ast      30276\n",
       "atm      28911\n",
       "aft      28325\n",
       "ata      21753\n",
       "adt      16485\n",
       "abt      13026\n",
       "apt      12443\n",
       "aet      12213\n",
       "ato      12164\n",
       "at-      11713\n",
       "ati      10547\n",
       "aT       10176\n",
       "avt       7339\n",
       "atl       6573\n",
       "atq       5277\n",
       "aot       4948\n",
       "atn       4717\n",
       "atf       4323\n",
       "ats       4085\n",
       "a-t       3983\n",
       "atø       3931\n",
       "a.t       3858\n",
       "até       3536\n",
       "atu       3358\n",
       "atb       3020\n",
       "atr       2906\n",
       "atj       2694\n",
       "aBt       2592\n",
       "atg       2405\n",
       "a1t       2319\n",
       "atc       1994\n",
       "azt       1707\n",
       "aTb       1636\n",
       "ajt       1487\n",
       "aUt       1411\n",
       "aty       1341"
      ]
     },
     "execution_count": 25,
     "metadata": {},
     "output_type": "execute_result"
    }
   ],
   "source": [
    "nb.sorted_wildcardsearch(\n",
    "    {\n",
    "        'word': 'a*t*', \n",
    "        'freq_lim': 50, \n",
    "        'limit': 50, \n",
    "        'factor': -1})"
   ]
  },
  {
   "cell_type": "code",
   "execution_count": 8,
   "metadata": {},
   "outputs": [],
   "source": [
    "nb.wildcardsearch??"
   ]
  },
  {
   "cell_type": "code",
   "execution_count": null,
   "metadata": {},
   "outputs": [],
   "source": [
    "ncol.get_all_konks()"
   ]
  }
 ],
 "metadata": {
  "kernelspec": {
   "display_name": "Python 3",
   "language": "python",
   "name": "python3"
  },
  "language_info": {
   "codemirror_mode": {
    "name": "ipython",
    "version": 3
   },
   "file_extension": ".py",
   "mimetype": "text/x-python",
   "name": "python",
   "nbconvert_exporter": "python",
   "pygments_lexer": "ipython3",
   "version": "3.8.3"
  }
 },
 "nbformat": 4,
 "nbformat_minor": 4
}
